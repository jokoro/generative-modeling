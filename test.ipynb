{
 "cells": [
  {
   "cell_type": "code",
   "execution_count": 4,
   "metadata": {},
   "outputs": [
    {
     "data": {
      "text/plain": [
       "'cifar10_clean_train_32.npz'"
      ]
     },
     "execution_count": 4,
     "metadata": {},
     "output_type": "execute_result"
    }
   ],
   "source": [
    "import torch\n",
    "import numpy as np\n",
    "import torch.nn.functional as F\n",
    "import os\n",
    "import cleanfid\n",
    "\n",
    "os.path.dirname(cleanfid.__file__)\n",
    "url= 'https://www.cs.cmu.edu/~clean-fid/stats//cifar10_clean_train_32.npz'\n",
    "os.path.basename(url)\n",
    "rel_path = (f\"{name}_{mode}{model_modifier}_{split}_{res}.npz\").lower()\n",
    "# name =              cifar10\n",
    "# mode =              clean\n",
    "# model_modifier =    \n",
    "# split =             train_32\n",
    "# res =               \n",
    "# rel_path= 'cifar10_clean_train_32.npz'\n",
    "cub_clean_custom_na.npz\n",
    "name =              'cub'\n",
    "split =             'custom'\n",
    "def get_reference_statistics(name, \n",
    "                            #  res, \n",
    "                            #  mode=\"clean\", \n",
    "                            #  model_name=\"inception_v3\", \n",
    "                            #  seed=0, \n",
    "                             split=\"test\", \n",
    "                            #  metric=\"FID\"\n",
    "                             ):\n",
    "def fid_folder(fdir, \n",
    "            #    dataset_name, dataset_res, \n",
    "               dataset_split,):\n",
    "\n"
   ]
  },
  {
   "cell_type": "code",
   "execution_count": null,
   "metadata": {},
   "outputs": [],
   "source": [
    "\n",
    "\n",
    "[\n",
    " \"--log_dir\"\\n\n",
    " \"vae_latent_rep\"\\n\n",
    " \"--loss_mode\"\\n\n",
    " \"vae\"\\n\n",
    " \"--latent_size\"\\n\n",
    " \"1024\"]\n",
    "\n",
    "[\"--log_dir\"\\n\n",
    "\"vae_latent_beta_1\"\\n\n",
    "\"--loss_mode\"\\n\n",
    "\"vae\"\\n\n",
    "\"--latent_size\"\\n\n",
    "\"1024\"\\n\n",
    "\"--target_beta_val\"\\n\n",
    "\"1\"]"
   ]
  }
 ],
 "metadata": {
  "kernelspec": {
   "display_name": "vis_env2",
   "language": "python",
   "name": "python3"
  },
  "language_info": {
   "codemirror_mode": {
    "name": "ipython",
    "version": 3
   },
   "file_extension": ".py",
   "mimetype": "text/x-python",
   "name": "python",
   "nbconvert_exporter": "python",
   "pygments_lexer": "ipython3",
   "version": "3.8.0"
  }
 },
 "nbformat": 4,
 "nbformat_minor": 2
}
