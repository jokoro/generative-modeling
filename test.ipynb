{
 "cells": [
  {
   "cell_type": "code",
   "execution_count": 3,
   "metadata": {},
   "outputs": [
    {
     "data": {
      "text/plain": [
       "'/home/ubuntu/miniconda3/envs/vis_env2/lib/python3.8/site-packages/cleanfid'"
      ]
     },
     "execution_count": 3,
     "metadata": {},
     "output_type": "execute_result"
    }
   ],
   "source": [
    "import torch\n",
    "import numpy as np\n",
    "import torch.nn.functional as F\n",
    "import os\n",
    "import cleanfid\n",
    "os.path.dirname(cleanfid.__file__)"
   ]
  },
  {
   "cell_type": "code",
   "execution_count": null,
   "metadata": {},
   "outputs": [],
   "source": [
    "\n",
    "\n",
    "[\n",
    " \"--log_dir\"\\n\n",
    " \"vae_latent_rep\"\\n\n",
    " \"--loss_mode\"\\n\n",
    " \"vae\"\\n\n",
    " \"--latent_size\"\\n\n",
    " \"1024\"]\n",
    "\n",
    "[\"--log_dir\"\\n\n",
    "\"vae_latent_beta_1\"\\n\n",
    "\"--loss_mode\"\\n\n",
    "\"vae\"\\n\n",
    "\"--latent_size\"\\n\n",
    "\"1024\"\\n\n",
    "\"--target_beta_val\"\\n\n",
    "\"1\"]"
   ]
  }
 ],
 "metadata": {
  "kernelspec": {
   "display_name": "vis_env2",
   "language": "python",
   "name": "python3"
  },
  "language_info": {
   "codemirror_mode": {
    "name": "ipython",
    "version": 3
   },
   "file_extension": ".py",
   "mimetype": "text/x-python",
   "name": "python",
   "nbconvert_exporter": "python",
   "pygments_lexer": "ipython3",
   "version": "3.8.0"
  }
 },
 "nbformat": 4,
 "nbformat_minor": 2
}
